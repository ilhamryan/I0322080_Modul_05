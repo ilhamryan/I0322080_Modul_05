{
 "cells": [
  {
   "attachments": {},
   "cell_type": "markdown",
   "metadata": {},
   "source": [
    "1. Buatlah program untuk menghitung pangkat 2 dari angka 1 hingga 50!"
   ]
  },
  {
   "cell_type": "code",
   "execution_count": 14,
   "metadata": {},
   "outputs": [
    {
     "name": "stdout",
     "output_type": "stream",
     "text": [
      "Hasil Pangkat yang anda cari adalah :  1\n",
      "Hasil Pangkat yang anda cari adalah :  4\n",
      "Hasil Pangkat yang anda cari adalah :  9\n"
     ]
    }
   ],
   "source": [
    "# Kerjakan nomor 1 di sini\n",
    "inputangka=int(input(\"Masukan angka yang ingin anda cari hasil Pangkat 2-nya : \"))\n",
    "for i in range(inputangka):\n",
    "    print('Hasil Pangkat yang anda cari adalah : ',(i+1)**2)\n",
    "    "
   ]
  },
  {
   "cell_type": "code",
   "execution_count": 20,
   "metadata": {},
   "outputs": [
    {
     "name": "stdout",
     "output_type": "stream",
     "text": [
      "Hasil Pangkat kuadrat nilai anda adalah : 25\n"
     ]
    }
   ],
   "source": [
    "# Kerjakan nomor 1 di sini\n",
    "inputangka=int(input(\"Masukan angka yang ingin anda cari nilai kuadratnya: \"))\n",
    "if inputangka >50:\n",
    "    print('Maaf Program hanya dapat menghitung hingga nilai 50')\n",
    "elif inputangka <2:\n",
    "    print('Maaf program hanya dapat menghitung mulai dari niali 2')\n",
    "else:\n",
    "    print('Hasil Pangkat kuadrat nilai anda adalah :', inputangka**2)\n"
   ]
  },
  {
   "attachments": {},
   "cell_type": "markdown",
   "metadata": {},
   "source": [
    "2. Buatlah sebuah list yang berisi daftar nama mahasiswa angkatan kalian minimal sejumlah 10 nama. Kemudian buat program pencarian menggunakan pengulangan, di mana apabila nama yang user inputkan sudah sesuai dengan isi list maka program akan berhenti dan menampilkan output \"Pencarian anda sudah berakhir\""
   ]
  },
  {
   "attachments": {},
   "cell_type": "markdown",
   "metadata": {},
   "source": [
    "catatan: perhatikan user dapat menginputkan menggunakan baik huruf kapital maupun tidak"
   ]
  },
  {
   "cell_type": "code",
   "execution_count": 65,
   "metadata": {},
   "outputs": [
    {
     "name": "stdout",
     "output_type": "stream",
     "text": [
      "==================================================\n",
      "\n",
      "Maaf Nama Mahasiswa yang anda cari tidak ada\n",
      "\n",
      "==================================================\n"
     ]
    }
   ],
   "source": [
    "# Kerjakan nomor 2 di sini\n",
    "NamaMahasiswaImperiale=['Anggito','Luthfi','Hanif','Fahriza ','Hakim','Daffa','Pramudhita','Pradipta','ilham','Yusuf','Rafif']\n",
    "CariNamaMahasiswa=(input('Nama Mahasiswa Yang anda cari :')).lower()\n",
    "for Namadicari in NamaMahasiswaImperiale:\n",
    "    if Namadicari.lower() == CariNamaMahasiswa:\n",
    "        print('='*50)\n",
    "        print()\n",
    "        print('Siakad TI')\n",
    "        print('Pencarian')\n",
    "        print()\n",
    "        print('Menampilkan Pencarian anda')\n",
    "        print()\n",
    "        print('Nama Mahasiswa :', Namadicari)\n",
    "        print()\n",
    "        print('='*50)\n",
    "        break\n",
    "else:\n",
    "    print('='*50)\n",
    "    print()\n",
    "    print('Maaf Nama Mahasiswa yang anda cari tidak ada')\n",
    "    print()\n",
    "    print('='*50)"
   ]
  },
  {
   "attachments": {},
   "cell_type": "markdown",
   "metadata": {},
   "source": [
    "3. Disajikan list sebagai berikut "
   ]
  },
  {
   "cell_type": "code",
   "execution_count": null,
   "metadata": {},
   "outputs": [],
   "source": [
    "bulan = ['januari', 'februari', 'maret', 'april','mei','juni','juli','agustus','september','oktober','november','desember']\n",
    "kota = ['jakarta' , 'kuala lumpur', 'bangkok', 'seoul', 'canada','london','dubai','barcelona']"
   ]
  },
  {
   "cell_type": "markdown",
   "metadata": {},
   "source": []
  },
  {
   "attachments": {},
   "cell_type": "markdown",
   "metadata": {},
   "source": [
    "Robert adalah seorang penyanyi terkenal. Dia merencanakan konser world tour di tahun 2024 mendatang di berbagai negara. Dengan catatan pada bulan April dan Mei, Robert kembali ke indonesia untuk istirahat sejenak kemudian melanjutkan lagi konser. Berdasarkan kasus tersebut buatlah program pengulangannya!"
   ]
  },
  {
   "cell_type": "code",
   "execution_count": 3,
   "metadata": {},
   "outputs": [
    {
     "name": "stdout",
     "output_type": "stream",
     "text": [
      "\n",
      "Maaf, Robert sedang tidak mengadakan konser pada bulan Mei di kota Jakart a\n"
     ]
    }
   ],
   "source": [
    "# kerjakan nomor 3 di sini\n",
    "bulan = ['januari', 'februari', 'maret', 'april', 'mei', 'juni', 'juli', 'agustus', 'september', 'oktober', 'november', 'desember']\n",
    "kota = ['jakarta' , 'kuala lumpur', 'bangkok', 'seoul', 'canada', 'london', 'dubai', 'barcelona']\n",
    "\n",
    "i = 0\n",
    "j = 0\n",
    "\n",
    "\n",
    "print()\n",
    "search_kota = input(\"Cari konser di kota mana? \")\n",
    "search_bulan = input(\"Cari konser pada bulan apa? \")\n",
    "\n",
    "for i in range(len(bulan)):\n",
    "    if search_bulan.lower() == bulan[i]:\n",
    "        if search_bulan.lower() == 'april' or search_bulan.lower() == 'mei':\n",
    "            if search_kota.lower() == 'indonesia':\n",
    "                print(\"Robert akan konser di\", search_kota.capitalize(), \"pada bulan\", search_bulan.capitalize())\n",
    "            else:\n",
    "                print(\"Maaf, Robert sedang tidak mengadakan konser pada bulan\", search_bulan.capitalize(), \"di kota\", search_kota.capitalize())\n",
    "        else:\n",
    "            if search_kota.lower() == kota[i]:\n",
    "                print(\"Robert akan konser di\", search_kota.capitalize(), \"pada bulan\", search_bulan.capitalize())\n",
    "            else:\n",
    "                print(\"Maaf, Robert sedang tidak mengadakan konser pada bulan\", search_bulan.capitalize(), \"di kota\", search_kota.capitalize())\n",
    "        break\n",
    "else:\n",
    "    print(\"Maaf, bulan yang Anda cari tidak ada dalam daftar.\")"
   ]
  }
 ],
 "metadata": {
  "kernelspec": {
   "display_name": "Python 3",
   "language": "python",
   "name": "python3"
  },
  "language_info": {
   "codemirror_mode": {
    "name": "ipython",
    "version": 3
   },
   "file_extension": ".py",
   "mimetype": "text/x-python",
   "name": "python",
   "nbconvert_exporter": "python",
   "pygments_lexer": "ipython3",
   "version": "3.10.7"
  },
  "orig_nbformat": 4
 },
 "nbformat": 4,
 "nbformat_minor": 2
}
